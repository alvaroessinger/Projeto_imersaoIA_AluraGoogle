{
  "nbformat": 4,
  "nbformat_minor": 0,
  "metadata": {
    "colab": {
      "provenance": [],
      "authorship_tag": "ABX9TyNI9R+9Cwg1P9AKPZ7SYIv4",
      "include_colab_link": true
    },
    "kernelspec": {
      "name": "python3",
      "display_name": "Python 3"
    },
    "language_info": {
      "name": "python"
    }
  },
  "cells": [
    {
      "cell_type": "markdown",
      "metadata": {
        "id": "view-in-github",
        "colab_type": "text"
      },
      "source": [
        "<a href=\"https://colab.research.google.com/github/alvaroessinger/Projeto_imersaoIA_AluraGoogle/blob/main/Projeto_Imers%C3%A3oIA.ipynb\" target=\"_parent\"><img src=\"https://colab.research.google.com/assets/colab-badge.svg\" alt=\"Open In Colab\"/></a>"
      ]
    },
    {
      "cell_type": "markdown",
      "source": [
        "# **Configuração Inicial** ⚙"
      ],
      "metadata": {
        "id": "lQzPHeR6Ng35"
      }
    },
    {
      "cell_type": "code",
      "execution_count": 1,
      "metadata": {
        "id": "OWncA3I-C68t"
      },
      "outputs": [],
      "source": [
        "!pip install -q -U google-generativeai\n",
        "\n",
        "#Importações e configurações iniciais\n",
        "#import numpy as np\n",
        "#import pandas as pd\n",
        "import google.generativeai as genai\n",
        "from google.colab import userdata\n",
        "api_key = userdata.get('SECRET_KEY')\n",
        "genai.configure(api_key=api_key)\n",
        "\n",
        "generation_config = {\n",
        "  \"candidate_count\": 1,\n",
        "  \"temperature\": 0.0,\n",
        "}\n",
        "\n",
        "safety_settings={\n",
        "    'HATE': 'BLOCK_NONE',\n",
        "    'HARASSMENT': 'BLOCK_NONE',\n",
        "    'SEXUAL' : 'BLOCK_NONE',\n",
        "    'DANGEROUS' : 'BLOCK_NONE'\n",
        "    }\n",
        "\n",
        "model = genai.GenerativeModel('gemini-1.5-pro-latest',\n",
        "                              generation_config=generation_config,\n",
        "                              safety_settings=safety_settings)"
      ]
    },
    {
      "cell_type": "markdown",
      "source": [
        "Funções e informações sobre escalada"
      ],
      "metadata": {
        "id": "8lW8txzmaPUO"
      }
    },
    {
      "cell_type": "code",
      "source": [
        "def local_escalada(cidade):\n",
        "  # Simulação de busca por local de escalada\n",
        "  #setor_escalada = \"Morro da Cruz, Florianópolis\"\n",
        "  resposta = f\"Bora escalar no setor {cidade}!\"\n",
        "  return resposta\n",
        "\n",
        "\n",
        "  def info_escalada():\n",
        "    mensagem = \"\"\"\n",
        "  Escalada é o desporto ou a atividade de escalar pedras, montanhas e fendas, com ou sem o auxílio de cordas e equipamentos especiais. O objetivo é atingir um ponto final ou um cume de uma face pedrosa ou de uma estrutura.\n",
        "  Isso é feito utilizando equipamentos específicos, dependentes da dificuldade da escalada. É um desporto com uma exigência física elevada que combina ginástica e agilidade com o trabalho mental para executar uma ascensão ou uma travessia. Esta atividade pode ser praticada como forma de recreação ou, em níveis mais elevados, como desporto competitivo.\n",
        "  Além disso, algumas atividades comerciais utilizam as técnicas da escalada no seu cotidiano, como na manutenção de torres de comunicação e pontes. Também é uma competência necessária para realização de operações militares e resgates de emergência.\n",
        "  A graduação de uma determinada via é dada considerando a dificuldade de sua realização quando escalada em livre. A graduação é uma medida subjetiva, uma vez que é definida a princípio pelo escalador conquistador da via, sendo redefinida se necessário pela comunidade que a frequenta, geralmente devido à modificações na rocha, como quebra de agarras.\n",
        "  Os principais sistemas de graduação de vias de escalada são o francês e o americano. Entretanto, há outros sistemas, como por exemplo o inglês, o australiano, o norueguês, o finlandês, o checo, o brasileiro e o sistema UIAA. Quanto aos sistemas de graduação para boulder, há o Hueco Thanks (americano) e o Fontainebleau (francês).\n",
        "  O sistema de graduação brasileiro começou a ser concebido na década de 1940 por pioneiros da escalada no Brasil, iniciando com uma escala que ia do 1º a 5º graus. Nas décadas posteriores ele foi sendo aprimorado e em 1974 surgiu a subdivisão \"sup\" e um ano depois o sistema brasileiro foi oficializado. Depois disso ainda sofreu adaptações nas décadas de 1980 e 1990\n",
        "  Site: [https://pt.wikipedia.org/wiki/Escalada]\n",
        "  Site: [https://naokiarima.com.br/croquiteca/rs/]\n",
        "  Site: [https://naokiarima.com.br/rss/gruta-rs/]\n",
        "  Site: [https://www.climbingfloripa.com.br/associacao-catarinense-de-escalada-e-montanhismo/]\n",
        "  Site: [https://www.climbingfloripa.com.br/]\n",
        "  \"\"\"\n",
        "  return mensagem"
      ],
      "metadata": {
        "id": "2yNq6_oJN4n4"
      },
      "execution_count": 2,
      "outputs": []
    },
    {
      "cell_type": "markdown",
      "source": [
        "Iniciando o chatBot!"
      ],
      "metadata": {
        "id": "P8jOesTGe0z9"
      }
    },
    {
      "cell_type": "code",
      "source": [
        "# Nome do Chatbot\n",
        "nome_chatbot = \"EscalAI\"\n",
        "\n",
        "# Início do Chat\n",
        "print(\"Chatbot: Olá! Qual é o seu nome?\")\n",
        "\n",
        "# Obter o nome do usuário\n",
        "nome_usuario = input('Você: ')\n",
        "\n",
        "# Mensagem de apresentação,  boas-vindas\n",
        "print(f\"Chatbot: Kamon!, {nome_usuario}! Eu sou o {nome_chatbot}, um chatbot da escalada. Onde vai ser o projeto hoje?\")\n",
        "\n",
        "#Obter localização\n",
        "cidade = input('Cidade: ')\n",
        "\n",
        "# Continuação da conversa utilizando o modelo\n",
        "chat = model.start_chat(history=[])\n",
        "#cidade = 'cidade'\n",
        "#response = chat.send_message(local_escalada(cidade))\n",
        "print(f\"{nome_chatbot}:\", response.text, '\\n')\n",
        "while True:\n",
        "  prompt = input('Você: ')\n",
        "  cidade = \"sua região\"\n",
        "  response = chat.send_message(prompt)\n",
        "  print(f\"{nome_chatbot}:\", response.text, '\\n')\n",
        "  if prompt.lower() == \"fim\":\n",
        "    break\n"
      ],
      "metadata": {
        "colab": {
          "base_uri": "https://localhost:8080/",
          "height": 555
        },
        "id": "s_U2uuu_Qdnl",
        "outputId": "fc3ddb6b-513d-4201-8431-54e4a53c9c3c"
      },
      "execution_count": 6,
      "outputs": [
        {
          "output_type": "stream",
          "name": "stdout",
          "text": [
            "Chatbot: Olá! Qual é o seu nome?\n",
            "Você: pdero\n",
            "Chatbot: Kamon!, pdero! Eu sou o EscalAI, um chatbot da escalada. Onde vai ser o projeto hoje?\n",
            "Cidade: floripa\n",
            "EscalAI: Que legal! Escalar é um esporte incrível! 💪 Para te ajudar a começar, preciso de mais informações. Me fale:\n",
            "\n",
            "* **Que tipo de escalada te interessa?**  Esportiva? Tradicional? Boulder? Indoor? 🧗‍♀️\n",
            "* **Você já tem alguma experiência?** Fez curso? Já escalou antes? 🤔\n",
            "* **Onde você gostaria de escalar?** Tem algum lugar em mente? 🌄\n",
            "* **Qual o seu objetivo?** Quer aprender o básico? Melhorar sua técnica? Superar um desafio específico? 🤔\n",
            "\n",
            "Com essas informações, posso te dar dicas mais precisas sobre equipamentos, cursos, locais para escalar e tudo mais que você precisa saber para começar! 😊 \n",
            " \n",
            "\n",
            "Você: esportiva! tenho experiencia\n",
            "EscalAI: Legal! É ótimo saber que você curte esportes e tem experiência. 😊 \n",
            "\n",
            "Para te ajudar melhor, me fale um pouco mais sobre você:\n",
            "\n",
            "* **Qual esporte você pratica?** ⚽🏀🎾🏐🏈\n",
            "* **Há quanto tempo você pratica?** \n",
            "* **Você compete ou pratica por hobby?** \n",
            "* **O que você gostaria de saber ou fazer relacionado a esportes?** \n",
            "\n",
            "Com mais informações, posso te dar dicas, informações, curiosidades e muito mais! 😉 \n",
            " \n",
            "\n",
            "Você: fim\n",
            "EscalAI: Tudo bem! Se precisar de algo, é só chamar. 😊 \n",
            " \n",
            "\n"
          ]
        }
      ]
    }
  ]
}